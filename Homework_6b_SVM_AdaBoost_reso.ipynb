{
  "cells": [
    {
      "cell_type": "markdown",
      "metadata": {
        "id": "view-in-github",
        "colab_type": "text"
      },
      "source": [
        "<a href=\"https://colab.research.google.com/github/Rafaelcarvalho320/Homework5/blob/main/Homework_6b_SVM_AdaBoost_reso.ipynb\" target=\"_parent\"><img src=\"https://colab.research.google.com/assets/colab-badge.svg\" alt=\"Open In Colab\"/></a>"
      ]
    },
    {
      "cell_type": "markdown",
      "id": "a7dc885b",
      "metadata": {
        "id": "a7dc885b"
      },
      "source": [
        "1) Projete um classificador SVM e um Adaboost que tenham o menor  erro possível no conjunto de teste.\n",
        "a) Descreva em  detalhes suficientes os passos de matemática usados para gerar o classificador (aqui você pode contar  com um software para lhe ajudar a calcular valores, mas transponha os resultados para texto e  explique cada passo, não precisando descrever passos repetidos). Para o treinamento da SVM (determinar o bias, lambdas, etc.), use as classes do scikit-learn exemplificadas no código ak_svm.py, a aprenda a extrair delas os parâmetros que você precisa para depois você mesmo reportar a matemática usada na fase do teste (a otimização matemática da fase de treino não é parte do escopo do curso, mas sim a do teste). Como a versão do Adaboost do scikit-learn não é a mesma que estamos adotando, você pode até usar o scikit-learn, mas observe as diferenças. Há também os códigos ak_adaboost.py e adaboost_comparison.py que podem ser usados para ajudar. No caso do AdaBoost, diferente da SVM, você deve descrever toda etapa de treino."
      ]
    },
    {
      "cell_type": "code",
      "execution_count": null,
      "id": "64d92f8c",
      "metadata": {
        "scrolled": true,
        "id": "64d92f8c",
        "outputId": "a00cd1e2-3190-4da2-f98c-f39e0a4d6b3c"
      },
      "outputs": [
        {
          "name": "stdout",
          "output_type": "stream",
          "text": [
            "Bias:  [0.0590471]\n",
            "Lambdas:  [[-1.         -0.81656438 -1.          0.81656438  1.          1.        ]]\n",
            "              precision    recall  f1-score   support\n",
            "\n",
            "           0       0.33      1.00      0.50         1\n",
            "           1       1.00      0.33      0.50         3\n",
            "\n",
            "    accuracy                           0.50         4\n",
            "   macro avg       0.67      0.67      0.50         4\n",
            "weighted avg       0.83      0.50      0.50         4\n",
            "\n"
          ]
        }
      ],
      "source": [
        "from sklearn import datasets\n",
        "from sklearn.svm import SVC\n",
        "from sklearn.model_selection import train_test_split\n",
        "from sklearn.preprocessing import StandardScaler\n",
        "import pandas as pd\n",
        "import numpy as np\n",
        "\n",
        "# Carregar o conjunto de treinamento\n",
        "df_train = pd.read_csv('/content/estudante_201706840055_train.txt')\n",
        "\n",
        "\n",
        "# Converter o dataframe do pandas para uma matriz NumPy\n",
        "data_train = np.array(df_train)\n",
        "X_train = data_train[:, :-1]  \n",
        "y_train = data_train[:, -1]   \n",
        "\n",
        "# Carregar o conjunto de teste\n",
        "df_test = pd.read_csv('/content/estudante_201706840055_test.txt')\n",
        "\n",
        "# Converter o dataframe do pandas para uma matriz NumPy\n",
        "data_test = np.array(df_test)\n",
        "X_test = data_test[:, :-1]  \n",
        "y_test = data_test[:, -1]   \n",
        "\n",
        "sc = StandardScaler()\n",
        "X_train = sc.fit_transform(X_train)\n",
        "\n",
        "svm_linear = SVC(kernel='linear', C=1)\n",
        "\n",
        "svm_linear.fit(X_train, y_train)\n",
        "\n",
        "print(\"Bias: \", svm_linear.intercept_)\n",
        "print(\"Lambdas: \", svm_linear.dual_coef_)\n",
        "\n",
        "X_test = sc.transform(X_test)\n",
        "\n",
        "y_pred = svm_linear.predict(X_test)\n",
        "\n",
        "\n",
        "from sklearn.metrics import classification_report\n",
        "\n",
        "print(classification_report(y_test, y_pred))\n"
      ]
    },
    {
      "cell_type": "markdown",
      "id": "bce9b42f",
      "metadata": {
        "id": "bce9b42f"
      },
      "source": [
        "Para treinar um classificador SVM\n",
        "\n",
        "1-Pré-processamento dos dados: Normalizar e/ou padronizar os dados de entrada.\n",
        "\n",
        "2-Seleção do kernel: Selecionar o kernel que será usado para mapear os dados de entrada .\n",
        "\n",
        "3-Definir o problema de otimização: O objetivo é encontrar o hiperplano que maximiza a margem e minimiza a função de custo.\n",
        "\n",
        "4-Escolher o parâmetro de regularização: O parâmetro de regularização C controla a quantidade de erro de classificação permitido durante o treinamento.\n",
        "\n",
        "5-Treinar o classificador SVM: Com os parâmetros definidos.\n",
        "\n",
        "6-Validar o classificador SVM: O desempenho do classificador SVM pode ser avaliado usando os dados de validação, medindo a acurácia, precisão, recall e F1-score.\n",
        "\n",
        "7-Aplicar o classificador SVM: Com o modelo treinado e validado, ele pode ser aplicado para fazer previsões sobre novos dados de entrada.\n",
        "\n",
        "Para gerar o classificador SVM a partir dos valores de Bias e Lambdas:\n",
        "Encontrar o vetor de pesos w = ∑ λ_i y_i x_i\n",
        "\n",
        "Com os dados gerado na sáida do código -> w = -1*(-1.0)*[0.3144, -1.4983] = [0.3144, -1.4983]\n",
        "b(bias)= [0.0590471]\n",
        "\n",
        "f(x) = sign(<w, x> + b)\n",
        "\n",
        "onde sign é a função de sinal, que retorna -1 se o valor é negativo, 0 se for zero, e 1 se for positivo.\n",
        "Por exemplo, vamos classificar o ponto [0.9, 0.5]:\n",
        "\n",
        "<w, x> = [0.3144, -1.4983] * [0.9, 0.5] = -0.2831\n",
        "f(x) = sign(-0.2831 + 0.0590471) = sign(-0,2240529) = -1"
      ]
    },
    {
      "cell_type": "markdown",
      "id": "6f4e51c4",
      "metadata": {
        "id": "6f4e51c4"
      },
      "source": [
        "Para o AdaBoost:"
      ]
    },
    {
      "cell_type": "code",
      "execution_count": null,
      "id": "4d0af84b",
      "metadata": {
        "id": "4d0af84b",
        "outputId": "5ad3a440-5c55-414e-87f0-146ccf536d01"
      },
      "outputs": [
        {
          "name": "stdout",
          "output_type": "stream",
          "text": [
            "Desempenho no conjunto de validação:\n",
            "\n",
            "              precision    recall  f1-score   support\n",
            "\n",
            "           0       0.00      0.00      0.00         1\n",
            "           1       0.67      1.00      0.80         2\n",
            "\n",
            "    accuracy                           0.67         3\n",
            "   macro avg       0.33      0.50      0.40         3\n",
            "weighted avg       0.44      0.67      0.53         3\n",
            "\n",
            "Desempenho no conjunto de teste:\n",
            "\n",
            "              precision    recall  f1-score   support\n",
            "\n",
            "           0       0.00      0.00      0.00         1\n",
            "           1       0.67      0.67      0.67         3\n",
            "\n",
            "    accuracy                           0.50         4\n",
            "   macro avg       0.33      0.33      0.33         4\n",
            "weighted avg       0.50      0.50      0.50         4\n",
            "\n"
          ]
        },
        {
          "name": "stderr",
          "output_type": "stream",
          "text": [
            "C:\\Users\\Dell\\anaconda3\\envs\\IC2023\\lib\\site-packages\\sklearn\\ensemble\\_base.py:166: FutureWarning: `base_estimator` was renamed to `estimator` in version 1.2 and will be removed in 1.4.\n",
            "  warnings.warn(\n",
            "C:\\Users\\Dell\\anaconda3\\envs\\IC2023\\lib\\site-packages\\sklearn\\metrics\\_classification.py:1344: UndefinedMetricWarning: Precision and F-score are ill-defined and being set to 0.0 in labels with no predicted samples. Use `zero_division` parameter to control this behavior.\n",
            "  _warn_prf(average, modifier, msg_start, len(result))\n",
            "C:\\Users\\Dell\\anaconda3\\envs\\IC2023\\lib\\site-packages\\sklearn\\metrics\\_classification.py:1344: UndefinedMetricWarning: Precision and F-score are ill-defined and being set to 0.0 in labels with no predicted samples. Use `zero_division` parameter to control this behavior.\n",
            "  _warn_prf(average, modifier, msg_start, len(result))\n",
            "C:\\Users\\Dell\\anaconda3\\envs\\IC2023\\lib\\site-packages\\sklearn\\metrics\\_classification.py:1344: UndefinedMetricWarning: Precision and F-score are ill-defined and being set to 0.0 in labels with no predicted samples. Use `zero_division` parameter to control this behavior.\n",
            "  _warn_prf(average, modifier, msg_start, len(result))\n"
          ]
        }
      ],
      "source": [
        "from sklearn import datasets\n",
        "from sklearn.svm import SVC\n",
        "from sklearn.ensemble import AdaBoostClassifier\n",
        "from sklearn.model_selection import train_test_split\n",
        "from sklearn.preprocessing import StandardScaler\n",
        "import pandas as pd\n",
        "import numpy as np\n",
        "\n",
        "# Carregar o conjunto de treinamento\n",
        "df_train = pd.read_csv('/content/estudante_201706840055_train.txt')\n",
        "\n",
        "# Carregar o conjunto de teste\n",
        "df_test = pd.read_csv('/content/estudante_201706840055_test.txt')\n",
        "\n",
        "# Carregar o conjunto de validação\n",
        "df_val = pd.read_csv('/content/estudante_201706840055_validation.txt')\n",
        "\n",
        "# Converter os dataframes do pandas para matrizes NumPy\n",
        "data_train = np.array(df_train)\n",
        "X_train = data_train[:, :-1]  \n",
        "y_train = data_train[:, -1]   \n",
        "\n",
        "data_test = np.array(df_test)\n",
        "X_test = data_test[:, :-1]  \n",
        "y_test = data_test[:, -1]   \n",
        "\n",
        "data_val = np.array(df_val)\n",
        "X_val = data_val[:, :-1]  \n",
        "y_val = data_val[:, -1]   \n",
        "\n",
        "# Padronizar os dados de entrada\n",
        "sc = StandardScaler()\n",
        "X_train = sc.fit_transform(X_train)\n",
        "X_test = sc.transform(X_test)\n",
        "X_val = sc.transform(X_val)\n",
        "\n",
        "# Treinar uma SVM com kernel linear\n",
        "svm_linear = SVC(kernel='linear', C=1)\n",
        "svm_linear.fit(X_train, y_train)\n",
        "\n",
        "# Treinar um classificador Adaboost com 50 estimadores baseados em SVMs com kernel linear\n",
        "adaboost = AdaBoostClassifier(base_estimator=svm_linear, n_estimators=50, algorithm='SAMME')\n",
        "adaboost.fit(X_train, y_train)\n",
        "\n",
        "# Avaliar o desempenho do classificador Adaboost no conjunto de validação\n",
        "y_pred_val = adaboost.predict(X_val)\n",
        "from sklearn.metrics import classification_report\n",
        "print(\"Desempenho no conjunto de validação:\\n\")\n",
        "print(classification_report(y_val, y_pred_val))\n",
        "\n",
        "# Avaliar o desempenho do classificador Adaboost no conjunto de teste\n",
        "y_pred_test = adaboost.predict(X_test)\n",
        "print(\"Desempenho no conjunto de teste:\\n\")\n",
        "print(classification_report(y_test, y_pred_test))\n"
      ]
    },
    {
      "cell_type": "markdown",
      "id": "393b461d",
      "metadata": {
        "id": "393b461d"
      },
      "source": [
        "O processo de treinamento da SVM com kernel linear foi dividido em duas etapas: determinação dos multiplicadores de Lagrange ou lambdas e determinação do b ou bias. A primeira etapa envolve a solução de um problema de otimização que consiste em maximizar a margem entre as classes. A segunda etapa envolve a determinação do bias, que é o ponto de interseção entre o hiperplano que define a fronteira de decisão e o centro do conjunto de treinamento.\n",
        "\n",
        "O processo de treinamento do Adaboost:\n",
        "\n",
        "Inicialização dos pesos das amostras: cada amostra é inicialmente atribuída um peso igual.\n",
        "\n",
        "Para cada estimador SVM com kernel linear):\n",
        "\n",
        "   a) Treinamento do classificador fraco com os pesos atuais das amostras.\n",
        "\n",
        "   b) Cálculo do erro do classificador fraco em relação aos pesos atuais das amostras.\n",
        "\n",
        "   c) Cálculo do coeficiente alpha do classificador fraco com base no erro calculado.\n",
        "\n",
        "   d) Atualização dos pesos das amostras com base no coeficiente alpha e no erro calculado.\n",
        "\n",
        "Normalização dos pesos das amostras.\n",
        "Combinação dos classificadores fracos para formar o classificador final."
      ]
    },
    {
      "cell_type": "raw",
      "id": "d5fda295",
      "metadata": {
        "id": "d5fda295"
      },
      "source": [
        "\n",
        "\n",
        "\n",
        "b) Estude e indique o melhor pré-processamento dos dados (normalização para faixa [0, 1], média nula, etc.) para cada caso, e busque  economizar o custo computacional do pré-processamento (eventualmente até não fazendo pré processamento, caso o mesmo não seja útil)."
      ]
    },
    {
      "cell_type": "markdown",
      "id": "473127e6",
      "metadata": {
        "id": "473127e6"
      },
      "source": [
        "Para o SVM e o AdaBoost foram utilizados o mesmo pré-processamento dos dados:\n",
        " A padronização dos dados de entrada, usando a classe StandardScaler do módulo sklearn.preprocessing. A padronização é feita para que todas as variáveis de entrada tenham média zero e desvio padrão unitário. No código a função fit_transform é usada para calcular a média e o desvio padrão dos dados de treinamento e aplicar a transformação nos dados de treinamento e de teste."
      ]
    },
    {
      "cell_type": "markdown",
      "source": [
        "c) Usando um software (Python, Octave, etc.) gere uma  figura com as regiões de decisão deste classificador e indique também a localização dos exemplos de  treino, diferenciando suas classes. \n"
      ],
      "metadata": {
        "id": "NVym68WRarcg"
      },
      "id": "NVym68WRarcg"
    },
    {
      "cell_type": "code",
      "execution_count": null,
      "id": "fe34109c",
      "metadata": {
        "colab": {
          "base_uri": "https://localhost:8080/",
          "height": 986
        },
        "id": "fe34109c",
        "outputId": "592d06c1-742e-4244-d029-69da3db53b01"
      },
      "outputs": [
        {
          "output_type": "stream",
          "name": "stdout",
          "text": [
            "Bias:  [0.0590471]\n",
            "Lambdas:  [[-1.         -0.81656438 -1.          0.81656438  1.          1.        ]]\n",
            "              precision    recall  f1-score   support\n",
            "\n",
            "           0       0.33      1.00      0.50         1\n",
            "           1       1.00      0.33      0.50         3\n",
            "\n",
            "    accuracy                           0.50         4\n",
            "   macro avg       0.67      0.67      0.50         4\n",
            "weighted avg       0.83      0.50      0.50         4\n",
            "\n"
          ]
        },
        {
          "output_type": "error",
          "ename": "TypeError",
          "evalue": "ignored",
          "traceback": [
            "\u001b[0;31m---------------------------------------------------------------------------\u001b[0m",
            "\u001b[0;31mTypeError\u001b[0m                                 Traceback (most recent call last)",
            "\u001b[0;32m<ipython-input-3-38ad334e0db2>\u001b[0m in \u001b[0;36m<cell line: 44>\u001b[0;34m()\u001b[0m\n\u001b[1;32m     42\u001b[0m \u001b[0;34m\u001b[0m\u001b[0m\n\u001b[1;32m     43\u001b[0m \u001b[0;31m# Plotar as regiões de decisão do SVM\u001b[0m\u001b[0;34m\u001b[0m\u001b[0;34m\u001b[0m\u001b[0m\n\u001b[0;32m---> 44\u001b[0;31m \u001b[0mplot_decision_regions\u001b[0m\u001b[0;34m(\u001b[0m\u001b[0mX_train\u001b[0m\u001b[0;34m,\u001b[0m \u001b[0my_train\u001b[0m\u001b[0;34m,\u001b[0m \u001b[0mclf\u001b[0m\u001b[0;34m=\u001b[0m\u001b[0msvm_linear\u001b[0m\u001b[0;34m,\u001b[0m \u001b[0mlegend\u001b[0m\u001b[0;34m=\u001b[0m\u001b[0;36m2\u001b[0m\u001b[0;34m)\u001b[0m\u001b[0;34m\u001b[0m\u001b[0;34m\u001b[0m\u001b[0m\n\u001b[0m\u001b[1;32m     45\u001b[0m \u001b[0;34m\u001b[0m\u001b[0m\n\u001b[1;32m     46\u001b[0m \u001b[0;31m# Adicionar legendas e título\u001b[0m\u001b[0;34m\u001b[0m\u001b[0;34m\u001b[0m\u001b[0m\n",
            "\u001b[0;32m/usr/local/lib/python3.10/dist-packages/mlxtend/plotting/decision_regions.py\u001b[0m in \u001b[0;36mplot_decision_regions\u001b[0;34m(X, y, clf, feature_index, filler_feature_values, filler_feature_ranges, ax, X_highlight, res, legend, hide_spines, markers, colors, scatter_kwargs, contourf_kwargs, scatter_highlight_kwargs)\u001b[0m\n\u001b[1;32m    242\u001b[0m                antialiased=True)\n\u001b[1;32m    243\u001b[0m \u001b[0;34m\u001b[0m\u001b[0m\n\u001b[0;32m--> 244\u001b[0;31m     \u001b[0max\u001b[0m\u001b[0;34m.\u001b[0m\u001b[0maxis\u001b[0m\u001b[0;34m(\u001b[0m\u001b[0mxmin\u001b[0m\u001b[0;34m=\u001b[0m\u001b[0mxx\u001b[0m\u001b[0;34m.\u001b[0m\u001b[0mmin\u001b[0m\u001b[0;34m(\u001b[0m\u001b[0;34m)\u001b[0m\u001b[0;34m,\u001b[0m \u001b[0mxmax\u001b[0m\u001b[0;34m=\u001b[0m\u001b[0mxx\u001b[0m\u001b[0;34m.\u001b[0m\u001b[0mmax\u001b[0m\u001b[0;34m(\u001b[0m\u001b[0;34m)\u001b[0m\u001b[0;34m,\u001b[0m \u001b[0my_min\u001b[0m\u001b[0;34m=\u001b[0m\u001b[0myy\u001b[0m\u001b[0;34m.\u001b[0m\u001b[0mmin\u001b[0m\u001b[0;34m(\u001b[0m\u001b[0;34m)\u001b[0m\u001b[0;34m,\u001b[0m \u001b[0my_max\u001b[0m\u001b[0;34m=\u001b[0m\u001b[0myy\u001b[0m\u001b[0;34m.\u001b[0m\u001b[0mmax\u001b[0m\u001b[0;34m(\u001b[0m\u001b[0;34m)\u001b[0m\u001b[0;34m)\u001b[0m\u001b[0;34m\u001b[0m\u001b[0;34m\u001b[0m\u001b[0m\n\u001b[0m\u001b[1;32m    245\u001b[0m \u001b[0;34m\u001b[0m\u001b[0m\n\u001b[1;32m    246\u001b[0m     \u001b[0;31m# Scatter training data samples\u001b[0m\u001b[0;34m\u001b[0m\u001b[0;34m\u001b[0m\u001b[0m\n",
            "\u001b[0;32m/usr/local/lib/python3.10/dist-packages/matplotlib/axes/_base.py\u001b[0m in \u001b[0;36maxis\u001b[0;34m(self, arg, emit, **kwargs)\u001b[0m\n\u001b[1;32m   2125\u001b[0m             \u001b[0mself\u001b[0m\u001b[0;34m.\u001b[0m\u001b[0mset_ylim\u001b[0m\u001b[0;34m(\u001b[0m\u001b[0mymin\u001b[0m\u001b[0;34m,\u001b[0m \u001b[0mymax\u001b[0m\u001b[0;34m,\u001b[0m \u001b[0memit\u001b[0m\u001b[0;34m=\u001b[0m\u001b[0memit\u001b[0m\u001b[0;34m,\u001b[0m \u001b[0mauto\u001b[0m\u001b[0;34m=\u001b[0m\u001b[0myauto\u001b[0m\u001b[0;34m)\u001b[0m\u001b[0;34m\u001b[0m\u001b[0;34m\u001b[0m\u001b[0m\n\u001b[1;32m   2126\u001b[0m         \u001b[0;32mif\u001b[0m \u001b[0mkwargs\u001b[0m\u001b[0;34m:\u001b[0m\u001b[0;34m\u001b[0m\u001b[0;34m\u001b[0m\u001b[0m\n\u001b[0;32m-> 2127\u001b[0;31m             \u001b[0;32mraise\u001b[0m \u001b[0m_api\u001b[0m\u001b[0;34m.\u001b[0m\u001b[0mkwarg_error\u001b[0m\u001b[0;34m(\u001b[0m\u001b[0;34m\"axis\"\u001b[0m\u001b[0;34m,\u001b[0m \u001b[0mkwargs\u001b[0m\u001b[0;34m)\u001b[0m\u001b[0;34m\u001b[0m\u001b[0;34m\u001b[0m\u001b[0m\n\u001b[0m\u001b[1;32m   2128\u001b[0m         \u001b[0;32mreturn\u001b[0m \u001b[0;34m(\u001b[0m\u001b[0;34m*\u001b[0m\u001b[0mself\u001b[0m\u001b[0;34m.\u001b[0m\u001b[0mget_xlim\u001b[0m\u001b[0;34m(\u001b[0m\u001b[0;34m)\u001b[0m\u001b[0;34m,\u001b[0m \u001b[0;34m*\u001b[0m\u001b[0mself\u001b[0m\u001b[0;34m.\u001b[0m\u001b[0mget_ylim\u001b[0m\u001b[0;34m(\u001b[0m\u001b[0;34m)\u001b[0m\u001b[0;34m)\u001b[0m\u001b[0;34m\u001b[0m\u001b[0;34m\u001b[0m\u001b[0m\n\u001b[1;32m   2129\u001b[0m \u001b[0;34m\u001b[0m\u001b[0m\n",
            "\u001b[0;31mTypeError\u001b[0m: axis() got an unexpected keyword argument 'y_min'"
          ]
        },
        {
          "output_type": "display_data",
          "data": {
            "text/plain": [
              "<Figure size 640x480 with 1 Axes>"
            ],
            "image/png": "[encoded data removed]"
          },
          "metadata": {}
        }
      ],
      "source": [
        "from sklearn import datasets\n",
        "from sklearn.svm import SVC\n",
        "from sklearn.model_selection import train_test_split\n",
        "from sklearn.preprocessing import StandardScaler\n",
        "import pandas as pd\n",
        "import numpy as np\n",
        "import matplotlib.pyplot as plt  # Importar apenas pyplot\n",
        "from sklearn.metrics import classification_report\n",
        "from mlxtend.plotting import plot_decision_regions\n",
        "\n",
        "# Carregar o conjunto de treinamento\n",
        "df_train = pd.read_csv('/content/estudante_201706840055_train.txt')\n",
        "\n",
        "# Converter o dataframe do pandas para uma matriz NumPy\n",
        "data_train = np.array(df_train)\n",
        "X_train = data_train[:, :-1]  \n",
        "y_train = data_train[:, -1]   \n",
        "\n",
        "# Carregar o conjunto de teste\n",
        "df_test = pd.read_csv('/content/estudante_201706840055_test.txt')\n",
        "\n",
        "# Converter o dataframe do pandas para uma matriz NumPy\n",
        "data_test = np.array(df_test)\n",
        "X_test = data_test[:, :-1]  \n",
        "y_test = data_test[:, -1]   \n",
        "\n",
        "sc = StandardScaler()\n",
        "X_train = sc.fit_transform(X_train)\n",
        "\n",
        "svm_linear = SVC(kernel='linear', C=1)\n",
        "\n",
        "svm_linear.fit(X_train, y_train)\n",
        "\n",
        "print(\"Bias: \", svm_linear.intercept_)\n",
        "print(\"Lambdas: \", svm_linear.dual_coef_)\n",
        "\n",
        "X_test = sc.transform(X_test)\n",
        "\n",
        "y_pred = svm_linear.predict(X_test)\n",
        "\n",
        "print(classification_report(y_test, y_pred))\n",
        "\n",
        "# Plotar as regiões de decisão do SVM\n",
        "plot_decision_regions(X_train, y_train, clf=svm_linear, legend=2)\n",
        "\n",
        "# Adicionar legendas e título\n",
        "plt.xlabel('x1')\n",
        "plt.ylabel('x2')\n",
        "plt.title('SVM Linear')\n",
        "\n",
        "# Mostrar a figura\n",
        "plt.show()\n"
      ]
    },
    {
      "cell_type": "code",
      "source": [
        "from sklearn import datasets\n",
        "from sklearn.svm import SVC\n",
        "from sklearn.ensemble import AdaBoostClassifier\n",
        "from sklearn.model_selection import train_test_split\n",
        "from sklearn.preprocessing import StandardScaler\n",
        "import pandas as pd\n",
        "import numpy as np\n",
        "from mlxtend.plotting import plot_decision_regions\n",
        "import matplotlib.pyplot as plt\n",
        "\n",
        "# Carregar o conjunto de treinamento\n",
        "df_train = pd.read_csv('/content/estudante_201706840055_train.txt')\n",
        "\n",
        "# Carregar o conjunto de teste\n",
        "df_test = pd.read_csv('/content/estudante_201706840055_test.txt')\n",
        "\n",
        "# Carregar o conjunto de validação\n",
        "df_val = pd.read_csv('/content/estudante_201706840055_validation.txt')\n",
        "\n",
        "# Converter os dataframes do pandas para matrizes NumPy\n",
        "data_train = np.array(df_train)\n",
        "X_train = data_train[:, :-1]  \n",
        "y_train = data_train[:, -1]   \n",
        "\n",
        "data_test = np.array(df_test)\n",
        "X_test = data_test[:, :-1]  \n",
        "y_test = data_test[:, -1]   \n",
        "\n",
        "data_val = np.array(df_val)\n",
        "X_val = data_val[:, :-1]  \n",
        "y_val = data_val[:, -1]   \n",
        "\n",
        "# Padronizar os dados de entrada\n",
        "sc = StandardScaler()\n",
        "X_train = sc.fit_transform(X_train)\n",
        "X_test = sc.transform(X_test)\n",
        "X_val = sc.transform(X_val)\n",
        "\n",
        "# Treinar uma SVM com kernel linear\n",
        "svm_linear = SVC(kernel='linear', C=1)\n",
        "svm_linear.fit(X_train, y_train)\n",
        "\n",
        "# Treinar um classificador Adaboost com 50 estimadores baseados em SVMs com kernel linear\n",
        "adaboost = AdaBoostClassifier(base_estimator=svm_linear, n_estimators=50, algorithm='SAMME')\n",
        "adaboost.fit(X_train, y_train)\n",
        "\n",
        "# Avaliar o desempenho do classificador Adaboost no conjunto de validação\n",
        "y_pred_val = adaboost.predict(X_val)\n",
        "from sklearn.metrics import classification_report\n",
        "print(\"Desempenho no conjunto de validação:\\n\")\n",
        "print(classification_report(y_val, y_pred_val))\n",
        "\n",
        "# Avaliar o desempenho do classificador Adaboost no conjunto de teste\n",
        "y_pred_test = adaboost.predict(X_test)\n",
        "print(\"Desempenho no conjunto de teste:\\n\")\n",
        "print(classification_report(y_test, y_pred_test))\n",
        "\n",
        "# Plotar as regiões de decisão do classificador Adaboost\n",
        "plt.figure(figsize=(10, 6))\n",
        "colors = 'red,blue'\n",
        "plot_decision_regions(X_train, y_train, clf=adaboost, legend=2, colors=colors, markers='xo')\n",
        "plt.xlabel('X1')\n",
        "plt.ylabel('X2')\n",
        "plt.title('Regiões de decisão do classificador Adaboost')\n",
        "plt.show()\n",
        "\n"
      ],
      "metadata": {
        "colab": {
          "base_uri": "https://localhost:8080/",
          "height": 1000
        },
        "id": "hJQS8_OdbK0y",
        "outputId": "8a188839-ea65-47eb-b2dd-09b0cc20b05f"
      },
      "id": "hJQS8_OdbK0y",
      "execution_count": null,
      "outputs": [
        {
          "output_type": "stream",
          "name": "stderr",
          "text": [
            "/usr/local/lib/python3.10/dist-packages/sklearn/ensemble/_base.py:166: FutureWarning: `base_estimator` was renamed to `estimator` in version 1.2 and will be removed in 1.4.\n",
            "  warnings.warn(\n",
            "/usr/local/lib/python3.10/dist-packages/sklearn/metrics/_classification.py:1344: UndefinedMetricWarning: Precision and F-score are ill-defined and being set to 0.0 in labels with no predicted samples. Use `zero_division` parameter to control this behavior.\n",
            "  _warn_prf(average, modifier, msg_start, len(result))\n",
            "/usr/local/lib/python3.10/dist-packages/sklearn/metrics/_classification.py:1344: UndefinedMetricWarning: Precision and F-score are ill-defined and being set to 0.0 in labels with no predicted samples. Use `zero_division` parameter to control this behavior.\n",
            "  _warn_prf(average, modifier, msg_start, len(result))\n",
            "/usr/local/lib/python3.10/dist-packages/sklearn/metrics/_classification.py:1344: UndefinedMetricWarning: Precision and F-score are ill-defined and being set to 0.0 in labels with no predicted samples. Use `zero_division` parameter to control this behavior.\n",
            "  _warn_prf(average, modifier, msg_start, len(result))\n"
          ]
        },
        {
          "output_type": "stream",
          "name": "stdout",
          "text": [
            "Desempenho no conjunto de validação:\n",
            "\n",
            "              precision    recall  f1-score   support\n",
            "\n",
            "           0       0.00      0.00      0.00         1\n",
            "           1       0.67      1.00      0.80         2\n",
            "\n",
            "    accuracy                           0.67         3\n",
            "   macro avg       0.33      0.50      0.40         3\n",
            "weighted avg       0.44      0.67      0.53         3\n",
            "\n",
            "Desempenho no conjunto de teste:\n",
            "\n",
            "              precision    recall  f1-score   support\n",
            "\n",
            "           0       0.00      0.00      0.00         1\n",
            "           1       0.67      0.67      0.67         3\n",
            "\n",
            "    accuracy                           0.50         4\n",
            "   macro avg       0.33      0.33      0.33         4\n",
            "weighted avg       0.50      0.50      0.50         4\n",
            "\n"
          ]
        },
        {
          "output_type": "error",
          "ename": "TypeError",
          "evalue": "ignored",
          "traceback": [
            "\u001b[0;31m---------------------------------------------------------------------------\u001b[0m",
            "\u001b[0;31mTypeError\u001b[0m                                 Traceback (most recent call last)",
            "\u001b[0;32m<ipython-input-10-64caf91e3b5d>\u001b[0m in \u001b[0;36m<cell line: 61>\u001b[0;34m()\u001b[0m\n\u001b[1;32m     59\u001b[0m \u001b[0mplt\u001b[0m\u001b[0;34m.\u001b[0m\u001b[0mfigure\u001b[0m\u001b[0;34m(\u001b[0m\u001b[0mfigsize\u001b[0m\u001b[0;34m=\u001b[0m\u001b[0;34m(\u001b[0m\u001b[0;36m10\u001b[0m\u001b[0;34m,\u001b[0m \u001b[0;36m6\u001b[0m\u001b[0;34m)\u001b[0m\u001b[0;34m)\u001b[0m\u001b[0;34m\u001b[0m\u001b[0;34m\u001b[0m\u001b[0m\n\u001b[1;32m     60\u001b[0m \u001b[0mcolors\u001b[0m \u001b[0;34m=\u001b[0m \u001b[0;34m'red,blue'\u001b[0m\u001b[0;34m\u001b[0m\u001b[0;34m\u001b[0m\u001b[0m\n\u001b[0;32m---> 61\u001b[0;31m \u001b[0mplot_decision_regions\u001b[0m\u001b[0;34m(\u001b[0m\u001b[0mX_train\u001b[0m\u001b[0;34m,\u001b[0m \u001b[0my_train\u001b[0m\u001b[0;34m,\u001b[0m \u001b[0mclf\u001b[0m\u001b[0;34m=\u001b[0m\u001b[0madaboost\u001b[0m\u001b[0;34m,\u001b[0m \u001b[0mlegend\u001b[0m\u001b[0;34m=\u001b[0m\u001b[0;36m2\u001b[0m\u001b[0;34m,\u001b[0m \u001b[0mcolors\u001b[0m\u001b[0;34m=\u001b[0m\u001b[0mcolors\u001b[0m\u001b[0;34m,\u001b[0m \u001b[0mmarkers\u001b[0m\u001b[0;34m=\u001b[0m\u001b[0;34m'xo'\u001b[0m\u001b[0;34m)\u001b[0m\u001b[0;34m\u001b[0m\u001b[0;34m\u001b[0m\u001b[0m\n\u001b[0m\u001b[1;32m     62\u001b[0m \u001b[0mplt\u001b[0m\u001b[0;34m.\u001b[0m\u001b[0mxlabel\u001b[0m\u001b[0;34m(\u001b[0m\u001b[0;34m'X1'\u001b[0m\u001b[0;34m)\u001b[0m\u001b[0;34m\u001b[0m\u001b[0;34m\u001b[0m\u001b[0m\n\u001b[1;32m     63\u001b[0m \u001b[0mplt\u001b[0m\u001b[0;34m.\u001b[0m\u001b[0mylabel\u001b[0m\u001b[0;34m(\u001b[0m\u001b[0;34m'X2'\u001b[0m\u001b[0;34m)\u001b[0m\u001b[0;34m\u001b[0m\u001b[0;34m\u001b[0m\u001b[0m\n",
            "\u001b[0;32m/usr/local/lib/python3.10/dist-packages/mlxtend/plotting/decision_regions.py\u001b[0m in \u001b[0;36mplot_decision_regions\u001b[0;34m(X, y, clf, feature_index, filler_feature_values, filler_feature_ranges, ax, X_highlight, res, legend, hide_spines, markers, colors, scatter_kwargs, contourf_kwargs, scatter_highlight_kwargs)\u001b[0m\n\u001b[1;32m    242\u001b[0m                antialiased=True)\n\u001b[1;32m    243\u001b[0m \u001b[0;34m\u001b[0m\u001b[0m\n\u001b[0;32m--> 244\u001b[0;31m     \u001b[0max\u001b[0m\u001b[0;34m.\u001b[0m\u001b[0maxis\u001b[0m\u001b[0;34m(\u001b[0m\u001b[0mxmin\u001b[0m\u001b[0;34m=\u001b[0m\u001b[0mxx\u001b[0m\u001b[0;34m.\u001b[0m\u001b[0mmin\u001b[0m\u001b[0;34m(\u001b[0m\u001b[0;34m)\u001b[0m\u001b[0;34m,\u001b[0m \u001b[0mxmax\u001b[0m\u001b[0;34m=\u001b[0m\u001b[0mxx\u001b[0m\u001b[0;34m.\u001b[0m\u001b[0mmax\u001b[0m\u001b[0;34m(\u001b[0m\u001b[0;34m)\u001b[0m\u001b[0;34m,\u001b[0m \u001b[0my_min\u001b[0m\u001b[0;34m=\u001b[0m\u001b[0myy\u001b[0m\u001b[0;34m.\u001b[0m\u001b[0mmin\u001b[0m\u001b[0;34m(\u001b[0m\u001b[0;34m)\u001b[0m\u001b[0;34m,\u001b[0m \u001b[0my_max\u001b[0m\u001b[0;34m=\u001b[0m\u001b[0myy\u001b[0m\u001b[0;34m.\u001b[0m\u001b[0mmax\u001b[0m\u001b[0;34m(\u001b[0m\u001b[0;34m)\u001b[0m\u001b[0;34m)\u001b[0m\u001b[0;34m\u001b[0m\u001b[0;34m\u001b[0m\u001b[0m\n\u001b[0m\u001b[1;32m    245\u001b[0m \u001b[0;34m\u001b[0m\u001b[0m\n\u001b[1;32m    246\u001b[0m     \u001b[0;31m# Scatter training data samples\u001b[0m\u001b[0;34m\u001b[0m\u001b[0;34m\u001b[0m\u001b[0m\n",
            "\u001b[0;32m/usr/local/lib/python3.10/dist-packages/matplotlib/axes/_base.py\u001b[0m in \u001b[0;36maxis\u001b[0;34m(self, arg, emit, **kwargs)\u001b[0m\n\u001b[1;32m   2125\u001b[0m             \u001b[0mself\u001b[0m\u001b[0;34m.\u001b[0m\u001b[0mset_ylim\u001b[0m\u001b[0;34m(\u001b[0m\u001b[0mymin\u001b[0m\u001b[0;34m,\u001b[0m \u001b[0mymax\u001b[0m\u001b[0;34m,\u001b[0m \u001b[0memit\u001b[0m\u001b[0;34m=\u001b[0m\u001b[0memit\u001b[0m\u001b[0;34m,\u001b[0m \u001b[0mauto\u001b[0m\u001b[0;34m=\u001b[0m\u001b[0myauto\u001b[0m\u001b[0;34m)\u001b[0m\u001b[0;34m\u001b[0m\u001b[0;34m\u001b[0m\u001b[0m\n\u001b[1;32m   2126\u001b[0m         \u001b[0;32mif\u001b[0m \u001b[0mkwargs\u001b[0m\u001b[0;34m:\u001b[0m\u001b[0;34m\u001b[0m\u001b[0;34m\u001b[0m\u001b[0m\n\u001b[0;32m-> 2127\u001b[0;31m             \u001b[0;32mraise\u001b[0m \u001b[0m_api\u001b[0m\u001b[0;34m.\u001b[0m\u001b[0mkwarg_error\u001b[0m\u001b[0;34m(\u001b[0m\u001b[0;34m\"axis\"\u001b[0m\u001b[0;34m,\u001b[0m \u001b[0mkwargs\u001b[0m\u001b[0;34m)\u001b[0m\u001b[0;34m\u001b[0m\u001b[0;34m\u001b[0m\u001b[0m\n\u001b[0m\u001b[1;32m   2128\u001b[0m         \u001b[0;32mreturn\u001b[0m \u001b[0;34m(\u001b[0m\u001b[0;34m*\u001b[0m\u001b[0mself\u001b[0m\u001b[0;34m.\u001b[0m\u001b[0mget_xlim\u001b[0m\u001b[0;34m(\u001b[0m\u001b[0;34m)\u001b[0m\u001b[0;34m,\u001b[0m \u001b[0;34m*\u001b[0m\u001b[0mself\u001b[0m\u001b[0;34m.\u001b[0m\u001b[0mget_ylim\u001b[0m\u001b[0;34m(\u001b[0m\u001b[0;34m)\u001b[0m\u001b[0;34m)\u001b[0m\u001b[0;34m\u001b[0m\u001b[0;34m\u001b[0m\u001b[0m\n\u001b[1;32m   2129\u001b[0m \u001b[0;34m\u001b[0m\u001b[0m\n",
            "\u001b[0;31mTypeError\u001b[0m: axis() got an unexpected keyword argument 'y_min'"
          ]
        },
        {
          "output_type": "display_data",
          "data": {
            "text/plain": [
              "<Figure size 1000x600 with 1 Axes>"
            ],
            "image/png": "[encoded data removed]"
          },
          "metadata": {}
        }
      ]
    }
  ],
  "metadata": {
    "kernelspec": {
      "display_name": "Python 3 (ipykernel)",
      "language": "python",
      "name": "python3"
    },
    "language_info": {
      "codemirror_mode": {
        "name": "ipython",
        "version": 3
      },
      "file_extension": ".py",
      "mimetype": "text/x-python",
      "name": "python",
      "nbconvert_exporter": "python",
      "pygments_lexer": "ipython3",
      "version": "3.8.16"
    },
    "colab": {
      "provenance": [],
      "include_colab_link": true
    }
  },
  "nbformat": 4,
  "nbformat_minor": 5
}