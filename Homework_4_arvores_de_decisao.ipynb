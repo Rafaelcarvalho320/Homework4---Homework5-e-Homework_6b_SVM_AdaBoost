{
  "nbformat": 4,
  "nbformat_minor": 0,
  "metadata": {
    "colab": {
      "provenance": [],
      "include_colab_link": true
    },
    "kernelspec": {
      "name": "python3",
      "display_name": "Python 3"
    },
    "language_info": {
      "name": "python"
    }
  },
  "cells": [
    {
      "cell_type": "markdown",
      "metadata": {
        "id": "view-in-github",
        "colab_type": "text"
      },
      "source": [
        "<a href=\"https://colab.research.google.com/github/Rafaelcarvalho320/Homework5-e-Homework_6b_SVM_AdaBoost/blob/main/Homework_4_arvores_de_decisao.ipynb\" target=\"_parent\"><img src=\"https://colab.research.google.com/assets/colab-badge.svg\" alt=\"Open In Colab\"/></a>"
      ]
    },
    {
      "cell_type": "markdown",
      "source": [
        "Árvore de decisão com profundidade máxima de 3 usando o critério de Gini:"
      ],
      "metadata": {
        "id": "uRPQlXWlrCzF"
      }
    },
    {
      "cell_type": "code",
      "execution_count": null,
      "metadata": {
        "id": "OA7bTG2djs_4"
      },
      "outputs": [],
      "source": [
        "           X <= 0\n",
        "          /      \\\n",
        "         /        \\\n",
        "   X <= -2000    X <= 3000\n",
        "    /      \\        /     \\\n",
        "   /        \\      /       \\\n",
        "  0         1     1        X <= -1000\n",
        "                             /    \\\n",
        "                            /      \\\n",
        "                           0        1"
      ]
    },
    {
      "cell_type": "markdown",
      "source": [
        "Explicação da árvore de decisão:\n",
        "\n",
        "- O primeiro nó divide os dados com base na primeira coluna (X) e no valor de divisão de 0. Se o valor de X for menor ou igual a 0, vá para a esquerda, caso contrário, vá para a direita.\n",
        "- No segundo nível da árvore, os dados são divididos novamente com base em X e um novo valor de divisão. Se X for menor ou igual a -2000, vá para a esquerda e chegue a uma folha com a classe de saída 0. Caso contrário, vá para a direita e chegue ao próximo nó.\n",
        "- No terceiro nível da árvore, os dados são divididos novamente com base em X e um novo valor de divisão. Se X for menor ou igual a 3000, vá para a esquerda e chegue a uma folha com a classe de saída 1. Caso contrário, vá para a direita e chegue ao próximo nó.\n",
        "- No quarto nível da árvore, os dados são divididos novamente com base em X e um novo valor de divisão. Se X for menor ou igual a -1000, vá para a esquerda e chegue a uma folha com a classe de saída 0. Caso contrário, vá para a direita e chegue a uma folha com a classe de saída 1."
      ],
      "metadata": {
        "id": "pNC3XfutrB2V"
      }
    },
    {
      "cell_type": "markdown",
      "source": [
        "Árvore de decisão com profundidade máxima de 3 usando o critério de Entropia:"
      ],
      "metadata": {
        "id": "unPcvruTrXvo"
      }
    },
    {
      "cell_type": "code",
      "source": [
        "           X <= 0\n",
        "          /      \\\n",
        "         /        \\\n",
        "   X <= -2000     1\n",
        "    /      \\\n",
        "   /        \\\n",
        "  0       X <= 2000\n",
        "          /       \\\n",
        "         /         \\\n",
        "        1         0\n"
      ],
      "metadata": {
        "id": "XhODaXunrAY6"
      },
      "execution_count": null,
      "outputs": []
    },
    {
      "cell_type": "markdown",
      "source": [
        "Explicação da árvore de decisão:\n",
        "\n",
        "- O primeiro nó divide os dados com base na primeira coluna (X) e no valor de divisão de 0. Se o valor de X for menor ou igual a 0, vá para a esquerda, caso contrário, vá para a direita.\n",
        "- No segundo nível da árvore, os dados são divididos novamente com base em X e um novo valor de divisão. Se X for menor ou igual a -2000, vá para a esquerda e chegue a uma folha com a classe de saída 0. Caso contrário, vá para a direita e chegue ao próximo nó.\n",
        "- No terceiro nível da árvore, os dados são divididos novamente com base em X e um novo valor de divisão. Se X for menor ou igual a 2000, vá para a esquerda e chegue a uma folha com a classe de saída 1"
      ],
      "metadata": {
        "id": "0lHQWSAerj51"
      }
    },
    {
      "cell_type": "markdown",
      "source": [
        "Escolhendo o nó raiz da árvore de decisão usando o critério de Gini para mostrar os cálculos que fiz para fazer o split."
      ],
      "metadata": {
        "id": "N6YXdVzSr4me"
      }
    },
    {
      "cell_type": "code",
      "source": [
        "           X <= 0\n",
        "          /      \\\n",
        "         /        \\\n",
        "   X <= -2000    X <= 3000\n",
        "    /      \\        /     \\\n",
        "   /        \\      /       \\\n",
        "  0         1     1        X <= -1000\n",
        "                             /    \\\n",
        "                            /      \\\n",
        "                           0        1\n"
      ],
      "metadata": {
        "id": "ZJ58ZjR2r7rb"
      },
      "execution_count": null,
      "outputs": []
    },
    {
      "cell_type": "markdown",
      "source": [
        "O nó raiz é o primeiro nó, que divide os dados com base na primeira coluna (X) e no valor de divisão de 0. Precisamos calcular o índice de impureza de Gini para cada um dos dois ramos.\n",
        "\n",
        "Para a esquerda:\n",
        "\n",
        "- 2 exemplos pertencem à classe 0.\n",
        "- 2 exemplos pertencem à classe 1.\n",
        "- O total de exemplos é 4.\n",
        "- O índice de impureza de Gini é dado por:"
      ],
      "metadata": {
        "id": "YY5FlmTQr9p8"
      }
    },
    {
      "cell_type": "code",
      "source": [
        "1 - (p0^2 + p1^2)\n",
        "\n",
        "# Onde p0 é a proporção de exemplos pertencentes à classe 0 e p1 é a proporção de exemplos pertencentes à classe 1.\n",
        "\n",
        "# Então, para a esquerda, temos:\n",
        "\n",
        "p0 = 2/4 = 0.5\n",
        "p1 = 2/4 = 0.5\n",
        "\n",
        "Gini = 1 - (0.5^2 + 0.5^2) = 0.5\n"
      ],
      "metadata": {
        "id": "bKv_O09RsFIA"
      },
      "execution_count": null,
      "outputs": []
    },
    {
      "cell_type": "markdown",
      "source": [
        "Para a direita:\n",
        "\n",
        "1 exemplo pertence à classe 0.\n",
        "3 exemplos pertencem à classe 1.\n",
        "O total de exemplos é 4.\n",
        "Então, para a direita, temos:"
      ],
      "metadata": {
        "id": "QnUirFMjsXuR"
      }
    },
    {
      "cell_type": "code",
      "source": [
        "p0 = 1/4 = 0.25\n",
        "p1 = 3/4 = 0.75\n",
        "\n",
        "Gini = 1 - (0.25^2 + 0.75^2) = 0.375\n"
      ],
      "metadata": {
        "id": "DIxSuwiysYnw"
      },
      "execution_count": null,
      "outputs": []
    },
    {
      "cell_type": "code",
      "source": [
        "MPI = (4/8) * 0.5 + (4/8) * 0.375 = 0.4375\n"
      ],
      "metadata": {
        "id": "ehUaX0L7si9_"
      },
      "execution_count": null,
      "outputs": []
    },
    {
      "cell_type": "markdown",
      "source": [
        "Para determinar a acurácia da árvore projetada, é necessário aplicá-la aos conjuntos de treino, validação e teste e comparar as suas previsões com as classes reais.\n",
        "\n",
        "Usando a árvore de decisão com profundidade máxima de 3 e o critério de Gini, as previsões para os conjuntos de treino, validação e teste são:\n",
        "\n",
        "Conjunto de treino:\n",
        "\n",
        "- O primeiro ponto de dados (3000, 0, 0) é classificado como 1.\n",
        "- O segundo ponto de dados (2000, -3, 0) é classificado como 0.\n",
        "- O terceiro ponto de dados (-2000, -3, 0) é classificado como 0.\n",
        "- O quarto ponto de dados (-2000, -3, 0) é classificado como 0.\n",
        "- O quinto ponto de dados (6000, 3, 1) é classificado como 1.\n",
        "- O sexto ponto de dados (-1000, -5, 1) é classificado como 0.\n",
        "- O sétimo ponto de dados (6000, 2, 1) é classificado como 1.\n",
        "- O oitavo ponto de dados (3000, 0, 1) é classificado como 1.\n",
        "\n",
        "Conjunto de validação:\n",
        "\n",
        "- O primeiro ponto de dados (-4000, 2, 0) é classificado como 0.\n",
        "- O segundo ponto de dados (-2000, 1, 0) é classificado como 0.\n",
        "- O terceiro ponto de dados (6000, -5, 1) é classificado como 1.\n",
        "- O quarto ponto de dados (1000, 2, 1) é classificado como 1.\n",
        "\n",
        "Conjunto de teste:\n",
        "\n",
        "- O primeiro ponto de dados (-1000, -2, 0) é classificado como 0.\n",
        "- O segundo ponto de dados (3000, 1, 0) é classificado como 1.\n",
        "- O terceiro ponto de dados (-6000, 5, 1) é classificado como 1.\n",
        "- O quarto ponto de dados (-4000, 1, 1) é classificado como 0.\n",
        "- O quinto ponto de dados (-2000, -6, 1) é classificado como 0.\n",
        "\n",
        "\n",
        "Comparando as previsões com as classes reais, a acurácia da árvore para os conjuntos de treino, validação e teste é:\n",
        "\n",
        "Conjunto de treino: 87,5% (7/8 acertos)\n",
        "Conjunto de validação: 50% (2/4 acertos)\n",
        "Conjunto de teste: 40% (2/5 acertos)\n",
        "\n",
        "Nota-se que a árvore tem um bom desempenho no conjunto de treino, mas não generaliza bem para os conjuntos de validação e teste"
      ],
      "metadata": {
        "id": "oQRVSIOouZZb"
      }
    }
  ]
}